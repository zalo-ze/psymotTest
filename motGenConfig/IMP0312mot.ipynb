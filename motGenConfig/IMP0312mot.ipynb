{
 "cells": [
  {
   "cell_type": "markdown",
   "metadata": {},
   "source": [
    "# 完全弹性碰撞｜仅包含滑动摩擦力｜完全散热的独立系统｜质量相等的运动点模拟"
   ]
  },
  {
   "cell_type": "code",
   "execution_count": 1,
   "metadata": {},
   "outputs": [],
   "source": [
    "import numpy as np\n",
    "import drawSvg\n",
    "from tqdm import tqdm\n",
    "import os"
   ]
  },
  {
   "cell_type": "code",
   "execution_count": 2,
   "metadata": {},
   "outputs": [],
   "source": [
    "def pointDraw(points,r:int=10,frameSize:tuple=(1786,832)):\n",
    "    \"\"\"点画，目前仅支持最大12个点\"\"\"\n",
    "    w,h = frameSize\n",
    "\n",
    "    color = ['grey','SeaGreen' ,'grey','SteelBlue','grey','Orange','grey','LightCoral','grey','DarkSlateBlue','grey','CornflowerBlue']\n",
    "    points = np.array(points)\n",
    "    img = drawSvg.Drawing(w,h, displayInline=False)\n",
    "    rec = drawSvg.Rectangle(0,0,w,h, fill='white')\n",
    "    img.append(rec)\n",
    "\n",
    "    for i in range(points.shape[0]):\n",
    "        X,Y = points[i]\n",
    "        c = color[i]\n",
    "        img.append(drawSvg.Circle(X,Y, r,fill=c, stroke_width=1, stroke=c, fill_opacity=0.6))\n",
    "    img.setPixelScale(2)\n",
    "    img.rasterize()\n",
    "    return img"
   ]
  },
  {
   "cell_type": "code",
   "execution_count": 3,
   "metadata": {},
   "outputs": [],
   "source": [
    "def getInitLocation(pNum,r,frameSize:tuple=(1786,832)):\n",
    "    \"\"\"随机初始位置\"\"\"\n",
    "    w,h = frameSize\n",
    "    initLocation = np.array([np.random.randint(r*2,w-r*2,pNum),np.random.randint(r*2,h-r*2,pNum)]).T\n",
    "    return initLocation"
   ]
  },
  {
   "cell_type": "code",
   "execution_count": 4,
   "metadata": {},
   "outputs": [],
   "source": [
    "def getInitSpeed(pNum,low,high,ifEndToEnd = False):\n",
    "    \"\"\"随机初始速度\"\"\"\n",
    "    initSpeed = np.array([np.random.randint(low,high,pNum),np.random.randint(low,high,pNum)]).T\n",
    "    if ifEndToEnd == False:\n",
    "        ones = np.random.randint(-1,2,300)\n",
    "        ones = ones[np.where(ones!=0)]\n",
    "        Xones = ones[:pNum]\n",
    "        Yones = ones[-pNum:]\n",
    "    else:\n",
    "        ones = np.random.randint(-1,2,300)\n",
    "        ones = ones[np.where(ones!=0)]\n",
    "        Xones = np.ones(pNum)\n",
    "        Yones = ones[-pNum:]\n",
    "    initSpeed[:,0] = initSpeed[:,0]*Xones\n",
    "    initSpeed[:,1] = initSpeed[:,1]*Yones\n",
    "    return initSpeed"
   ]
  },
  {
   "cell_type": "code",
   "execution_count": 5,
   "metadata": {},
   "outputs": [],
   "source": [
    "def calEK(m,speedList):\n",
    "    \"\"\"计算动能\n",
    "    \n",
    "    ek = (mv^2)/2\n",
    "    \"\"\"\n",
    "    pNum = speedList.shape[0]\n",
    "    mList = np.array([m for i in range(pNum)])\n",
    "    sl2 = speedList[:,0]**2 + speedList[:,1]**2\n",
    "    ekList = 0.5*mList*sl2\n",
    "    return ekList"
   ]
  },
  {
   "cell_type": "code",
   "execution_count": 6,
   "metadata": {},
   "outputs": [],
   "source": [
    "def calStopTime(m,miu,pNum,gravity,speedList):\n",
    "    \"\"\"在一个完全弹性碰撞、散热良好的封闭系统中，初始动能完全被摩擦力做功消耗；\n",
    "    \n",
    "    因此初始动能全部转换为热: Ek = miu*m*g*distance\n",
    "    \n",
    "    假设速度只受到滑动摩擦力做功，从整体上看是一个速度衰减的多元线性系统，因此其平均速度为avg(v_start,v_end)，基于此计算直至静止的时间\"\"\"\n",
    "    d = np.sum(calEK(m,speedList))/(miu*m*gravity*pNum)\n",
    "    v = np.sum(np.sqrt(speedList[:,0]**2 + speedList[:,1]**2))\n",
    "    t = d/(v/2)\n",
    "    return t"
   ]
  },
  {
   "cell_type": "code",
   "execution_count": 7,
   "metadata": {},
   "outputs": [],
   "source": [
    "def updateLocation(currentSpeed,currentLocation,acc,t):\n",
    "    \"\"\"按照匀减速直线运动更新位置，要注意acc是负的\"\"\"\n",
    "    currentLocation = np.array(currentLocation)\n",
    "    currentSpeed = np.array(currentSpeed)\n",
    "    deltaLocation = t*currentSpeed + (acc*(t**2))/2\n",
    "    presentLocation = currentLocation + deltaLocation\n",
    "    return presentLocation"
   ]
  },
  {
   "cell_type": "code",
   "execution_count": 8,
   "metadata": {},
   "outputs": [],
   "source": [
    "def updateSpeed(currentSpeed,acc,t):\n",
    "    \"\"\"按照匀减速直线运动更新速度，要注意acc是负的\"\"\"\n",
    "    deltaSpeed = acc*t\n",
    "    absSpeed = np.abs(currentSpeed)\n",
    "    param = currentSpeed/absSpeed\n",
    "    param = np.nan_to_num(param)\n",
    "    presentSpeed = absSpeed + deltaSpeed\n",
    "    presentSpeed = param*presentSpeed\n",
    "    return presentSpeed"
   ]
  },
  {
   "cell_type": "code",
   "execution_count": 9,
   "metadata": {},
   "outputs": [],
   "source": [
    "def calDis(currentLocation):\n",
    "    \"\"\"计算点与点的距离\"\"\"\n",
    "    Xd = currentLocation.T[0,:]-currentLocation[:,0].reshape(-1,1)\n",
    "    Yd = currentLocation.T[1,:]-currentLocation[:,1].reshape(-1,1)\n",
    "    dis = np.sqrt(Xd**2 + Yd**2)\n",
    "    return dis"
   ]
  },
  {
   "cell_type": "code",
   "execution_count": 10,
   "metadata": {},
   "outputs": [],
   "source": [
    "def checkClps(dis,r):\n",
    "    \"\"\"检测点与点的碰撞，返回有碰撞的点组索引\"\"\"\n",
    "    index = np.array(np.where(dis<=2*r)).T\n",
    "    check = index[:,0] - index[:,1]\n",
    "    index = index[np.where(check!=0)]\n",
    "    l = []\n",
    "    for i in index.tolist():\n",
    "        x,y = i\n",
    "        if i not in l and [y,x] not in l:\n",
    "            l.append(i)\n",
    "    l = np.array(l)\n",
    "    return l"
   ]
  },
  {
   "cell_type": "code",
   "execution_count": 11,
   "metadata": {},
   "outputs": [],
   "source": [
    "def checkBorder(currentLocation,r,frameSize:tuple=(1786,832)):\n",
    "    \"\"\"检测点与边界线的碰撞，返回有碰撞的点\"\"\"\n",
    "    w,h = frameSize\n",
    "    checkX0 = np.where(currentLocation[:,0]-r<=0)[0]\n",
    "    checkY0 = np.where(currentLocation[:,1]-r<=0)[0]\n",
    "    checkXb = np.where(currentLocation[:,0]+r>=w)[0]\n",
    "    checkYb = np.where(currentLocation[:,1]+r>=h)[0]\n",
    "    return {'X0':checkX0,'Y0':checkY0,'Xb':checkXb,'Yb':checkYb}"
   ]
  },
  {
   "cell_type": "code",
   "execution_count": 12,
   "metadata": {},
   "outputs": [],
   "source": [
    "def lastswitchPair(currentSpeed,clpsIndex,lastClpsIndex):\n",
    "    \"\"\"完全弹性碰撞的点对直接换向\"\"\"\n",
    "    if clpsIndex.shape[0] == 0:\n",
    "        return currentSpeed\n",
    "    for pair in clpsIndex:\n",
    "        if pair not in lastClpsIndex:\n",
    "            a,b = pair\n",
    "            vax,vay = currentSpeed[a]\n",
    "            vbx,vby = currentSpeed[b]\n",
    "            currentSpeed[a] = vbx,vby\n",
    "            currentSpeed[b] = vax,vay\n",
    "    return currentSpeed"
   ]
  },
  {
   "cell_type": "code",
   "execution_count": 13,
   "metadata": {},
   "outputs": [],
   "source": [
    "def switchPair(currentSpeed,clpsIndex):\n",
    "    \"\"\"完全弹性碰撞的点对直接换向\"\"\"\n",
    "    if clpsIndex.shape[0] == 0:\n",
    "        return currentSpeed\n",
    "    for pair in clpsIndex:\n",
    "        a,b = pair\n",
    "        vax,vay = currentSpeed[a]\n",
    "        vbx,vby = currentSpeed[b]\n",
    "        currentSpeed[a] = vbx,vby\n",
    "        currentSpeed[b] = vax,vay\n",
    "    return currentSpeed"
   ]
  },
  {
   "cell_type": "code",
   "execution_count": 14,
   "metadata": {},
   "outputs": [],
   "source": [
    "def lastswitchBorder(currentSpeed,bdIndex,lastBorderIndex):\n",
    "    \"\"\"完全弹性碰撞的点与边界单个反向\"\"\"\n",
    "    X0 = bdIndex['X0']\n",
    "    Y0 = bdIndex['Y0']\n",
    "    Xb = bdIndex['Xb']\n",
    "    Yb = bdIndex['Yb']\n",
    "    lX0 = lastBorderIndex['X0']\n",
    "    lY0 = lastBorderIndex['Y0']\n",
    "    lXb = lastBorderIndex['Xb']\n",
    "    lYb = lastBorderIndex['Yb']\n",
    "    if X0.shape[0] == 0:\n",
    "        pass\n",
    "    else:\n",
    "        for point in X0:\n",
    "            if point not in lX0:\n",
    "                currentSpeed[point,0] = -currentSpeed[point,0]\n",
    "\n",
    "    if Y0.shape[0] == 0:\n",
    "        pass\n",
    "    else:\n",
    "        for point in Y0:\n",
    "            if point not in lY0:\n",
    "                currentSpeed[point,1] = -currentSpeed[point,1] \n",
    "\n",
    "    if Xb.shape[0] == 0:\n",
    "        pass\n",
    "    else:\n",
    "        for point in Xb:\n",
    "            if point not in lXb:\n",
    "                currentSpeed[point,0] = -currentSpeed[point,0]\n",
    "\n",
    "    if Yb.shape[0] == 0:\n",
    "        pass\n",
    "    else:\n",
    "        for point in Yb:\n",
    "            if point not in lYb:\n",
    "                currentSpeed[point,1] = -currentSpeed[point,1]\n",
    "            \n",
    "    return currentSpeed"
   ]
  },
  {
   "cell_type": "code",
   "execution_count": 15,
   "metadata": {},
   "outputs": [],
   "source": [
    "def switchBorder(currentSpeed,bdIndex):\n",
    "    \"\"\"完全弹性碰撞的点与边界单个反向\"\"\"\n",
    "    X0 = bdIndex['X0']\n",
    "    Y0 = bdIndex['Y0']\n",
    "    Xb = bdIndex['Xb']\n",
    "    Yb = bdIndex['Yb']\n",
    "    if X0.shape[0] == 0:\n",
    "        pass\n",
    "    else:\n",
    "        for point in X0:\n",
    "            currentSpeed[point,0] = -currentSpeed[point,0]\n",
    "\n",
    "    if Y0.shape[0] == 0:\n",
    "        pass\n",
    "    else:\n",
    "        for point in Y0:\n",
    "            currentSpeed[point,1] = -currentSpeed[point,1] \n",
    "\n",
    "    if Xb.shape[0] == 0:\n",
    "        pass\n",
    "    else:\n",
    "        for point in Xb:\n",
    "            currentSpeed[point,0] = -currentSpeed[point,0]\n",
    "\n",
    "    if Yb.shape[0] == 0:\n",
    "        pass\n",
    "    else:\n",
    "        for point in Yb:\n",
    "            currentSpeed[point,1] = -currentSpeed[point,1]\n",
    "            \n",
    "    return currentSpeed"
   ]
  },
  {
   "cell_type": "code",
   "execution_count": 16,
   "metadata": {},
   "outputs": [],
   "source": [
    "def lastmoveItAndSave(pNum,r,initLocation,initSpeed,miu,m,gravity,calcT,path,maxIter=600):\n",
    "    currentLocation = initLocation.copy()\n",
    "    currentSpeed = initSpeed.copy()\n",
    "    ct = 0\n",
    "    pbar = tqdm(total=maxIter)\n",
    "    pbar.set_description('Processing:')\n",
    "    loc = []\n",
    "    while ct <= maxIter:\n",
    "        if len(loc) <=1:\n",
    "            lastLocation = []\n",
    "        else:\n",
    "            lastLocation = np.array(loc[-2])\n",
    "        # 点间距\n",
    "        dis = calDis(currentLocation)\n",
    "        if len(lastLocation) != 0:\n",
    "            lastDis = calDis(lastLocation)\n",
    "        # 点是否碰撞\n",
    "        clps = checkClps(dis,r)\n",
    "        if len(lastLocation) != 0:\n",
    "            lastClps = checkClps(lastDis,r)\n",
    "        else:\n",
    "            lastClps = []\n",
    "        # 与边境是否碰撞\n",
    "        border = checkBorder(currentLocation,r)\n",
    "        if len(lastLocation) != 0:\n",
    "            lastBorder = checkBorder(lastLocation,r)\n",
    "        else:\n",
    "            lastBorder  = {'X0':[],'Y0':[],'Xb':[],'Yb':[]}\n",
    "        # 更新点碰撞速度  \n",
    "        currentSpeed = switchPair(currentSpeed,clps,lastClps)\n",
    "        # 更新边缘碰撞速度\n",
    "        currentSpeed = switchBorder(currentSpeed,border,lastBorder)\n",
    "        # 计算新的位置\n",
    "        # print(currentSpeed,currentLocation,-miu*gravity,t)\n",
    "        currentLocation = updateLocation(currentSpeed= currentSpeed,currentLocation= currentLocation,acc= -miu*gravity,t=calcT)\n",
    "        # 计算新的速度\n",
    "        # currentSpeed = updateSpeed(currentSpeed=currentSpeed,acc=-miu*gravity,t=calcT)\n",
    "        # 画点\n",
    "        img = pointDraw(currentLocation,r)\n",
    "        # 存点\n",
    "        savePath = path+'frame'+str(ct) +\".png\"\n",
    "        img.savePng(savePath)\n",
    "        loc.append(currentLocation.tolist())\n",
    "        ct+=1\n",
    "        pbar.update(1)\n",
    "    return loc"
   ]
  },
  {
   "cell_type": "code",
   "execution_count": 17,
   "metadata": {},
   "outputs": [],
   "source": [
    "def moveItAndSave(pNum,r,initLocation,initSpeed,miu,m,gravity,calcT,path,maxIter=600):\n",
    "    currentLocation = initLocation.copy()\n",
    "    currentSpeed = initSpeed.copy()\n",
    "    ct = 0\n",
    "    pbar = tqdm(total=maxIter)\n",
    "    pbar.set_description('Processing:')\n",
    "    loc = []\n",
    "    while ct <= maxIter:\n",
    "        # 点间距\n",
    "        dis = calDis(currentLocation)\n",
    "        # 点是否碰撞\n",
    "        clps = checkClps(dis,r)\n",
    "        # 与边境是否碰撞\n",
    "        border = checkBorder(currentLocation,r)\n",
    "        # 更新点碰撞速度  \n",
    "        currentSpeed = switchPair(currentSpeed,clps)\n",
    "        # 更新边缘碰撞速度\n",
    "        currentSpeed = switchBorder(currentSpeed,border)\n",
    "        # 计算新的位置\n",
    "        # print(currentSpeed,currentLocation,-miu*gravity,t)\n",
    "        currentLocation = updateLocation(currentSpeed= currentSpeed,currentLocation= currentLocation,acc= -miu*gravity,t=calcT)\n",
    "        # 计算新的速度\n",
    "        # currentSpeed = updateSpeed(currentSpeed=currentSpeed,acc=-miu*gravity,t=calcT)\n",
    "        # 画点\n",
    "        img = pointDraw(currentLocation,r)\n",
    "        # 存点\n",
    "        savePath = path+'frame'+str(ct) +\".png\"\n",
    "        img.savePng(savePath)\n",
    "        loc.append(currentLocation.tolist())\n",
    "        ct+=1\n",
    "        pbar.update(1)\n",
    "    return loc"
   ]
  },
  {
   "cell_type": "code",
   "execution_count": 18,
   "metadata": {},
   "outputs": [],
   "source": [
    "def lastjustMoveIt(pNum,r,initLocation,initSpeed,miu,m,gravity,calcT,maxIter=600):\n",
    "    currentLocation = initLocation.copy()\n",
    "    currentSpeed = initSpeed.copy()\n",
    "    ct = 0\n",
    "    pbar = tqdm(total=maxIter)\n",
    "    loc = []\n",
    "    pbar.set_description('Processing :')\n",
    "    while ct <= maxIter:\n",
    "        if len(loc) <=1:\n",
    "            lastLocation = []\n",
    "        else:\n",
    "            lastLocation = np.array(loc[-2])\n",
    "        # 点间距\n",
    "        dis = calDis(currentLocation)\n",
    "        if len(lastLocation) != 0:\n",
    "            lastDis = calDis(lastLocation)\n",
    "        # 点是否碰撞\n",
    "        clps = checkClps(dis,r)\n",
    "        if len(lastLocation) != 0:\n",
    "            lastClps = checkClps(lastDis,r)\n",
    "        else:\n",
    "            lastClps = []\n",
    "        # 与边境是否碰撞\n",
    "        border = checkBorder(currentLocation,r)\n",
    "        if len(lastLocation) != 0:\n",
    "            lastBorder = checkBorder(lastLocation,r)\n",
    "        else:\n",
    "            lastBorder  = {'X0':np.array([]),'Y0':np.array([]),'Xb':np.array([]),'Yb':np.array([])}\n",
    "        # 更新点碰撞速度  \n",
    "        currentSpeed = lastswitchPair(currentSpeed,clps,lastClps)\n",
    "        # 更新边缘碰撞速度\n",
    "        currentSpeed = lastswitchBorder(currentSpeed,border,lastBorder)\n",
    "        # 计算新的位置\n",
    "        # print(currentSpeed,currentLocation,-miu*gravity,t)\n",
    "        currentLocation = updateLocation(currentSpeed= currentSpeed,currentLocation= currentLocation,acc= -miu*gravity,t=calcT)\n",
    "        # 计算新的速度\n",
    "        # currentSpeed = updateSpeed(currentSpeed=currentSpeed,acc=-miu*gravity,t=calcT)\n",
    "        ct+=1\n",
    "        loc.append(currentLocation.tolist())\n",
    "        pbar.update(1)\n",
    "    return loc"
   ]
  },
  {
   "cell_type": "code",
   "execution_count": 19,
   "metadata": {},
   "outputs": [],
   "source": [
    "def justMoveIt(pNum,r,initLocation,initSpeed,miu,m,gravity,calcT,maxIter=600):\n",
    "    currentLocation = initLocation.copy()\n",
    "    currentSpeed = initSpeed.copy()\n",
    "    ct = 0\n",
    "    pbar = tqdm(total=maxIter)\n",
    "    loc = []\n",
    "    pbar.set_description('Processing :')\n",
    "    while ct <= maxIter:\n",
    "        # 点间距\n",
    "        dis = calDis(currentLocation)\n",
    "        # 点是否碰撞\n",
    "        clps = checkClps(dis,r)\n",
    "        # 与边境是否碰撞\n",
    "        border = checkBorder(currentLocation,r)\n",
    "        # 更新点碰撞速度  \n",
    "        currentSpeed = switchPair(currentSpeed,clps)\n",
    "        # 更新边缘碰撞速度\n",
    "        currentSpeed = switchBorder(currentSpeed,border)\n",
    "        # 计算新的位置\n",
    "        # print(currentSpeed,currentLocation,-miu*gravity,t)\n",
    "        currentLocation = updateLocation(currentSpeed= currentSpeed,currentLocation= currentLocation,acc= -miu*gravity,t=calcT)\n",
    "        # 计算新的速度\n",
    "        # currentSpeed = updateSpeed(currentSpeed=currentSpeed,acc=-miu*gravity,t=calcT)\n",
    "        ct+=1\n",
    "        loc.append(currentLocation.tolist())\n",
    "        pbar.update(1)\n",
    "    return loc"
   ]
  },
  {
   "cell_type": "code",
   "execution_count": 20,
   "metadata": {},
   "outputs": [],
   "source": [
    "def genGIF(path,name,rate=25):\n",
    "    \"\"\"存储img为gif，时间很久，平均0.2s一个frame\"\"\"\n",
    "    sh = \"\"\"\n",
    "    cd {path}\n",
    "    ffmpeg -r {rate} -i frame%d.png mot.avi\n",
    "    ffmpeg -i mot.avi -pix_fmt rgb24 {name}\n",
    "    \"\"\"\n",
    "    rate = str(rate)\n",
    "    os.system(sh.format(path=path,rate=rate,name=name))"
   ]
  },
  {
   "cell_type": "code",
   "execution_count": 21,
   "metadata": {},
   "outputs": [],
   "source": [
    "FRAMESIZE = (1786,832)\n",
    "g = 10\n",
    "M = 1.0\n",
    "MIU = 0.2\n",
    "RADIUS = 20\n",
    "MIN_SPEED = 60\n",
    "MAX_SPEED = 80\n",
    "FRAMERATE = 25\n",
    "CALCTIME = 1/FRAMERATE"
   ]
  },
  {
   "cell_type": "code",
   "execution_count": 22,
   "metadata": {},
   "outputs": [
    {
     "data": {
      "text/plain": [
       "(255, 118)"
      ]
     },
     "execution_count": 22,
     "metadata": {},
     "output_type": "execute_result"
    }
   ],
   "source": [
    "START_BORDER = FRAMESIZE[0]//7,FRAMESIZE[1]//7\n",
    "START_BORDER"
   ]
  },
  {
   "cell_type": "code",
   "execution_count": 261,
   "metadata": {},
   "outputs": [
    {
     "data": {
      "text/html": [
       "<img src=\"data:image/svg+xml;base64,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\">"
      ],
      "text/plain": [
       "<drawSvg.drawing.Drawing at 0x7fb3ab77b4c0>"
      ]
     },
     "execution_count": 261,
     "metadata": {},
     "output_type": "execute_result"
    }
   ],
   "source": [
    "pNum = 12\n",
    "w,h = FRAMESIZE\n",
    "initLocation = np.array([np.random.randint(RADIUS*2,START_BORDER[0],pNum),np.random.randint(RADIUS*2,h-RADIUS*2,pNum)]).T\n",
    "img = pointDraw(initLocation,RADIUS)\n",
    "img"
   ]
  },
  {
   "cell_type": "code",
   "execution_count": 263,
   "metadata": {},
   "outputs": [
    {
     "data": {
      "text/plain": [
       "array([[ 65, -82],\n",
       "       [ 86, -84],\n",
       "       [ 60, -79],\n",
       "       [ 85,  87],\n",
       "       [ 76, -60],\n",
       "       [ 79,  80],\n",
       "       [ 67, -78],\n",
       "       [ 76, -76],\n",
       "       [ 71,  76],\n",
       "       [ 76,  84],\n",
       "       [ 88,  88],\n",
       "       [ 87,  66]])"
      ]
     },
     "execution_count": 263,
     "metadata": {},
     "output_type": "execute_result"
    }
   ],
   "source": [
    "initSpeed = getInitSpeed(pNum,MIN_SPEED,MAX_SPEED,True)\n",
    "initSpeed[:,1] = initSpeed[:,1]\n",
    "initSpeed"
   ]
  },
  {
   "cell_type": "code",
   "execution_count": 264,
   "metadata": {},
   "outputs": [
    {
     "name": "stderr",
     "output_type": "stream",
     "text": [
      "Processing :: : 551it [00:00, 849.04it/s]                        \n"
     ]
    }
   ],
   "source": [
    "loc = justMoveIt(pNum=pNum,r=RADIUS,initLocation=initLocation,initSpeed=initSpeed,miu=MIU,m=M,gravity=g,calcT=CALCTIME,maxIter=550)"
   ]
  },
  {
   "cell_type": "code",
   "execution_count": 265,
   "metadata": {},
   "outputs": [
    {
     "data": {
      "text/html": [
       "<img src=\"data:image/svg+xml;base64,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\">"
      ],
      "text/plain": [
       "<drawSvg.drawing.Drawing at 0x7fb3a7a1c4f0>"
      ]
     },
     "execution_count": 265,
     "metadata": {},
     "output_type": "execute_result"
    }
   ],
   "source": [
    "img = pointDraw(loc[-1],RADIUS)\n",
    "img"
   ]
  },
  {
   "cell_type": "code",
   "execution_count": 25,
   "metadata": {},
   "outputs": [
    {
     "name": "stderr",
     "output_type": "stream",
     "text": [
      "100%|██████████| 451/451 [03:31<00:00,  2.26it/s]"
     ]
    }
   ],
   "source": [
    "i = 0\n",
    "pbar = tqdm(total = len(loc))\n",
    "for p in loc:\n",
    "    img = pointDraw(p,RADIUS)\n",
    "    savePath = './motImg03122/'+'frame'+str(i) +\".png\"\n",
    "    img.savePng(savePath)\n",
    "    i += 1\n",
    "    pbar.update(1)"
   ]
  },
  {
   "cell_type": "code",
   "execution_count": 28,
   "metadata": {},
   "outputs": [
    {
     "name": "stderr",
     "output_type": "stream",
     "text": [
      "Processing:: : 501it [03:35,  2.32it/s]                       \n"
     ]
    },
    {
     "data": {
      "text/plain": [
      ]
     },
     "execution_count": 28,
     "metadata": {},
     "output_type": "execute_result"
    }
   ],
   "source": [
    "moveItAndSave(pNum=pNum,r=RADIUS,initLocation=initLocation,initSpeed=initSpeed,miu=MIU,m=M,gravity=g,calcT=CALCTIME,path = './mot0424/',maxIter=500)"
   ]
  },
  {
   "cell_type": "code",
   "execution_count": 29,
   "metadata": {},
   "outputs": [
    {
     "name": "stderr",
     "output_type": "stream",
     "text": [
      "ffmpeg version 4.3.1 Copyright (c) 2000-2020 the FFmpeg developers\n",
      "  built with Apple clang version 12.0.0 (clang-1200.0.32.28)\n",
      "  configuration: --prefix=/usr/local/Cellar/ffmpeg/4.3.1_8 --enable-shared --enable-pthreads --enable-version3 --enable-avresample --cc=clang --host-cflags= --host-ldflags= --enable-ffplay --enable-gnutls --enable-gpl --enable-libaom --enable-libbluray --enable-libdav1d --enable-libmp3lame --enable-libopus --enable-librav1e --enable-librubberband --enable-libsnappy --enable-libsrt --enable-libtesseract --enable-libtheora --enable-libvidstab --enable-libvorbis --enable-libvpx --enable-libwebp --enable-libx264 --enable-libx265 --enable-libxml2 --enable-libxvid --enable-lzma --enable-libfontconfig --enable-libfreetype --enable-frei0r --enable-libass --enable-libopencore-amrnb --enable-libopencore-amrwb --enable-libopenjpeg --enable-librtmp --enable-libspeex --enable-libsoxr --enable-videotoolbox --enable-libzmq --enable-libzimg --disable-libjack --disable-indev=jack\n",
      "  libavutil      56. 51.100 / 56. 51.100\n",
      "  libavcodec     58. 91.100 / 58. 91.100\n",
      "  libavformat    58. 45.100 / 58. 45.100\n",
      "  libavdevice    58. 10.100 / 58. 10.100\n",
      "  libavfilter     7. 85.100 /  7. 85.100\n",
      "  libavresample   4.  0.  0 /  4.  0.  0\n",
      "  libswscale      5.  7.100 /  5.  7.100\n",
      "  libswresample   3.  7.100 /  3.  7.100\n",
      "  libpostproc    55.  7.100 / 55.  7.100\n",
      "Input #0, image2, from 'frame%d.png':\n",
      "  Duration: 00:00:20.04, start: 0.000000, bitrate: N/A\n",
      "    Stream #0:0: Video: png, rgb24(pc), 3572x1664, 25 fps, 25 tbr, 25 tbn, 25 tbc\n",
      "Stream mapping:\n",
      "  Stream #0:0 -> #0:0 (png (native) -> mpeg4 (native))\n",
      "Press [q] to stop, [?] for help\n",
      "Output #0, avi, to 'mot.avi':\n",
      "  Metadata:\n",
      "    ISFT            : Lavf58.45.100\n",
      "    Stream #0:0: Video: mpeg4 (FMP4 / 0x34504D46), yuv420p, 3572x1664, q=2-31, 200 kb/s, 60 fps, 60 tbn, 60 tbc\n",
      "    Metadata:\n",
      "      encoder         : Lavc58.91.100 mpeg4\n",
      "    Side data:\n",
      "      cpb: bitrate max/min/avg: 0/0/200000 buffer size: 0 vbv_delay: N/A\n",
      "frame=  501 fps= 41 q=31.0 Lsize=    4502kB time=00:00:08.35 bitrate=4417.0kbits/s speed=0.68x    \n",
      "video:4485kB audio:0kB subtitle:0kB other streams:0kB global headers:0kB muxing overhead: 0.391218%\n",
      "ffmpeg version 4.3.1 Copyright (c) 2000-2020 the FFmpeg developers\n",
      "  built with Apple clang version 12.0.0 (clang-1200.0.32.28)\n",
      "  configuration: --prefix=/usr/local/Cellar/ffmpeg/4.3.1_8 --enable-shared --enable-pthreads --enable-version3 --enable-avresample --cc=clang --host-cflags= --host-ldflags= --enable-ffplay --enable-gnutls --enable-gpl --enable-libaom --enable-libbluray --enable-libdav1d --enable-libmp3lame --enable-libopus --enable-librav1e --enable-librubberband --enable-libsnappy --enable-libsrt --enable-libtesseract --enable-libtheora --enable-libvidstab --enable-libvorbis --enable-libvpx --enable-libwebp --enable-libx264 --enable-libx265 --enable-libxml2 --enable-libxvid --enable-lzma --enable-libfontconfig --enable-libfreetype --enable-frei0r --enable-libass --enable-libopencore-amrnb --enable-libopencore-amrwb --enable-libopenjpeg --enable-librtmp --enable-libspeex --enable-libsoxr --enable-videotoolbox --enable-libzmq --enable-libzimg --disable-libjack --disable-indev=jack\n",
      "  libavutil      56. 51.100 / 56. 51.100\n",
      "  libavcodec     58. 91.100 / 58. 91.100\n",
      "  libavformat    58. 45.100 / 58. 45.100\n",
      "  libavdevice    58. 10.100 / 58. 10.100\n",
      "  libavfilter     7. 85.100 /  7. 85.100\n",
      "  libavresample   4.  0.  0 /  4.  0.  0\n",
      "  libswscale      5.  7.100 /  5.  7.100\n",
      "  libswresample   3.  7.100 /  3.  7.100\n",
      "  libpostproc    55.  7.100 / 55.  7.100\n",
      "Input #0, avi, from 'mot.avi':\n",
      "  Metadata:\n",
      "    encoder         : Lavf58.45.100\n",
      "  Duration: 00:00:08.35, start: 0.000000, bitrate: 4417 kb/s\n",
      "    Stream #0:0: Video: mpeg4 (Simple Profile) (FMP4 / 0x34504D46), yuv420p, 3572x1664 [SAR 1:1 DAR 893:416], 4408 kb/s, 60 fps, 60 tbr, 60 tbn, 60 tbc\n",
      "Stream mapping:\n",
      "  Stream #0:0 -> #0:0 (mpeg4 (native) -> gif (native))\n",
      "Press [q] to stop, [?] for help\n",
      "Incompatible pixel format 'rgb24' for codec 'gif', auto-selecting format 'rgb8'\n",
      "[swscaler @ 0x7fb60c66b000] No accelerated colorspace conversion found from yuv420p to rgb8.\n",
      "Output #0, gif, to 'mot.gif':\n",
      "  Metadata:\n",
      "    encoder         : Lavf58.45.100\n",
      "    Stream #0:0: Video: gif, rgb8, 3572x1664 [SAR 1:1 DAR 893:416], q=2-31, 200 kb/s, 60 fps, 100 tbn, 60 tbc\n",
      "    Metadata:\n",
      "      encoder         : Lavc58.91.100 gif\n",
      "frame=  501 fps= 22 q=-0.0 Lsize=   10696kB time=00:00:08.34 bitrate=10506.1kbits/s speed=0.364x    \n",
      "video:10696kB audio:0kB subtitle:0kB other streams:0kB global headers:0kB muxing overhead: 0.000183%\n"
     ]
    }
   ],
   "source": [
    "genGIF('./mot0424/','mot.gif',60)"
   ]
  },
  {
   "cell_type": "markdown",
   "metadata": {},
   "source": [
    "# 0426 重新生成"
   ]
  },
  {
   "cell_type": "code",
   "execution_count": 23,
   "metadata": {},
   "outputs": [],
   "source": [
    "import json\n",
    "import os"
   ]
  },
  {
   "cell_type": "code",
   "execution_count": 24,
   "metadata": {},
   "outputs": [],
   "source": [
    "def pointDis(data:np.array):\n",
    "    length = data.shape[0]\n",
    "    out = []\n",
    "    for i in range(length+1):\n",
    "        for j in range(i+1,length):\n",
    "            minus = data[i]-data[j]\n",
    "            sqrtMinus = minus**2\n",
    "            final = np.sqrt(np.sum(sqrtMinus))\n",
    "            out.append(final)\n",
    "    return np.array(out)"
   ]
  },
  {
   "cell_type": "code",
   "execution_count": 25,
   "metadata": {},
   "outputs": [],
   "source": [
    "def dis(A:np.array,B:np.array):\n",
    "    return np.sqrt((A[:,0] - B[:,0])**2 + (A[:,1] -B[:,1])**2)"
   ]
  },
  {
   "cell_type": "code",
   "execution_count": 26,
   "metadata": {},
   "outputs": [],
   "source": [
    "def multiDis(data:np.array):\n",
    "    length = data.shape[0]\n",
    "    l = []\n",
    "    for i in range(length):\n",
    "        for j in range(i+1,length):\n",
    "            l.append(dis(data[i],data[j]))\n",
    "    return np.array(l).T"
   ]
  },
  {
   "cell_type": "code",
   "execution_count": 27,
   "metadata": {},
   "outputs": [],
   "source": [
    "def startPoints(pNum,a=2,b=3):\n",
    "    \"\"\"轮胎算法生成初始点位置\"\"\"\n",
    "    r = np.arange(pNum+1)\n",
    "    a1, a2 = np.sqrt(a), np.sqrt(b)\n",
    "    x1, x2 = r*a1, r*a2\n",
    "    y1, y2 = np.floor(x1), np.floor(x2)\n",
    "    x1, x2 = x1-y1, x2-y2\n",
    "    return x1[1:],x2[1:]"
   ]
  },
  {
   "cell_type": "code",
   "execution_count": 28,
   "metadata": {},
   "outputs": [],
   "source": [
    "with open(\"8-1-1-17.json\",\"r\") as f:\n",
    "    sample = json.loads(f.read())\n",
    "    "
   ]
  },
  {
   "cell_type": "code",
   "execution_count": 35,
   "metadata": {},
   "outputs": [],
   "source": [
    "START_BORDER = FRAMESIZE[0]//7,FRAMESIZE[1]"
   ]
  },
  {
   "cell_type": "code",
   "execution_count": 69,
   "metadata": {},
   "outputs": [],
   "source": [
    "with open(\"./mot0507-ori/design.json\",\"r\") as f:\n",
    "    design = json.loads(f.read())"
   ]
  },
  {
   "cell_type": "code",
   "execution_count": 64,
   "metadata": {},
   "outputs": [],
   "source": [
    "def generate(config:list,times:int,path:str,sep = 7):\n",
    "    \"\"\"集合函数，通过design生成json\"\"\"\n",
    "    global RADIUS, MIU, M, g, CALCTIME,sample\n",
    "    START_BORDER = FRAMESIZE[0]//sep,FRAMESIZE[1]\n",
    "    stage = config[0]\n",
    "    pNum = config[1]\n",
    "    tgt = config[2]\n",
    "    xvRate = config[3]\n",
    "    yvRate = config[4]\n",
    "    theRightAnswer = config[5]\n",
    "    targetPlaneIndex = config[6]\n",
    "    \n",
    "    s_pNum = \"0\" + str(pNum) if pNum<10 else str(pNum)\n",
    "\n",
    "    itemId = stage + s_pNum + \"0\" + str(tgt) + str(xvRate)+ str(yvRate) +\"0\" + str(sep) + \"-\" +str(times)\n",
    "    x,y = startPoints(pNum,a=10,b=14)\n",
    "    initLocation = np.array([START_BORDER[0]*x, START_BORDER[1]*y]).T\n",
    "\n",
    "    initSpeed = getInitSpeed(pNum,MIN_SPEED,MAX_SPEED,True)\n",
    "    initSpeed = np.abs(initSpeed)\n",
    "    initSpeed[:,0] = initSpeed[:,0]*xvRate/10\n",
    "    initSpeed[:,1] = initSpeed[:,1]*yvRate/10\n",
    "\n",
    "    # 四种对半分的y速度值,现在的是[正n/2，负n/2]\n",
    "    if times in [1,5,9]:\n",
    "        yMovement = [1 for _ in range(int(initSpeed.shape[0]/2))] + [-1 for _ in range(int(initSpeed.shape[0]/2))]\n",
    "    elif times in [2,6,10]:\n",
    "        yMovement = [-1 for _ in range(int(initSpeed.shape[0]/2))] + [1 for _ in range(int(initSpeed.shape[0]/2))]\n",
    "    elif times in [3,7,11]:\n",
    "        yMovement = [1 if float(i//2)==i/2 else -1 for i in range(initSpeed.shape[0])]\n",
    "    elif times in [4,8,12]:\n",
    "        yMovement = [-1 if float(i//2)==i/2 else 1 for i in range(initSpeed.shape[0])]\n",
    "\n",
    "    yMovement = yMovement+[-1 for _ in range(initSpeed.shape[0]-len(yMovement))] if initSpeed.shape[0]-len(yMovement) != 0 else yMovement \n",
    "\n",
    "    initSpeed[:,1] = initSpeed[:,1]*yMovement\n",
    "    loc = justMoveIt(pNum=pNum,r=RADIUS,initLocation=initLocation,initSpeed=initSpeed,miu=MIU,m=M,gravity=g,calcT=CALCTIME,maxIter=500)\n",
    "    l = []\n",
    "    for i in range(pNum):\n",
    "        l.append(np.array(loc)[:,i,:].tolist())\n",
    "    l = np.round(np.array(l),3).tolist()\n",
    "    sample['ctrl'] = l\n",
    "    sample['itemID'] = itemId\n",
    "    sample['hardLevel'] = itemId[:-2]\n",
    "    sample['planeTargetNum'] = tgt\n",
    "    sample[\"theRightAnswer\"] = theRightAnswer\n",
    "    sample[\"targetPlaneIndex\"] = targetPlaneIndex\n",
    "    with open(path+itemId+\".json\",\"w+\") as f:\n",
    "        f.write(json.dumps(sample))"
   ]
  },
  {
   "cell_type": "code",
   "execution_count": 65,
   "metadata": {},
   "outputs": [
    {
     "name": "stderr",
     "output_type": "stream",
     "text": [
      "Processing :: : 501it [00:00, 12049.69it/s]          \n",
      "Processing :: : 501it [00:00, 15696.92it/s]          \n",
      "Processing :: : 501it [00:00, 15905.67it/s]          \n",
      "Processing :: : 501it [00:00, 16490.07it/s]          \n",
      "Processing :: : 501it [00:00, 15977.88it/s]          \n",
      "Processing :: : 501it [00:00, 17708.82it/s]          \n",
      "Processing :: : 501it [00:00, 13334.35it/s]          \n",
      "Processing :: : 501it [00:00, 15194.23it/s]          \n",
      "Processing :: : 501it [00:00, 15741.37it/s]          \n",
      "Processing :: : 501it [00:00, 12138.44it/s]          \n",
      "Processing :: : 501it [00:00, 15974.72it/s]          \n",
      "Processing :: : 501it [00:00, 15314.04it/s]          \n",
      "Processing :: : 501it [00:00, 17149.37it/s]          \n",
      "Processing :: : 501it [00:00, 11516.18it/s]          \n",
      "Processing :: : 501it [00:00, 15988.57it/s]          \n",
      "Processing :: : 501it [00:00, 13453.27it/s]          \n",
      "Processing :: : 501it [00:00, 13656.46it/s]          \n",
      "Processing :: : 501it [00:00, 18201.04it/s]          \n",
      "Processing :: : 501it [00:00, 17432.34it/s]          \n",
      "Processing :: : 501it [00:00, 16924.64it/s]          \n",
      "Processing :: : 501it [00:00, 17200.60it/s]          \n",
      "Processing :: : 501it [00:00, 16418.82it/s]          \n",
      "Processing :: : 501it [00:00, 16997.33it/s]          \n",
      "Processing :: : 501it [00:00, 15799.48it/s]          \n",
      "Processing :: : 501it [00:00, 16242.54it/s]          \n",
      "Processing :: : 501it [00:00, 15071.30it/s]          \n",
      "Processing :: : 501it [00:00, 16861.22it/s]          \n",
      "Processing :: : 501it [00:00, 12634.28it/s]          \n",
      "Processing :: : 501it [00:00, 15113.03it/s]          \n",
      "Processing :: : 501it [00:00, 15771.61it/s]          \n",
      "Processing :: : 501it [00:00, 17429.74it/s]          \n",
      "Processing :: : 501it [00:00, 16819.92it/s]          \n",
      "Processing :: : 501it [00:00, 16360.27it/s]          \n",
      "Processing :: : 501it [00:00, 12121.08it/s]          \n",
      "Processing :: : 501it [00:00, 17724.95it/s]          \n",
      "Processing :: : 501it [00:00, 17084.39it/s]          \n",
      "Processing :: : 501it [00:00, 18396.71it/s]          \n",
      "Processing :: : 501it [00:00, 17734.38it/s]          \n",
      "Processing :: : 501it [00:00, 17786.92it/s]          \n",
      "Processing :: : 501it [00:00, 16217.72it/s]          \n",
      "Processing :: : 501it [00:00, 17454.64it/s]          \n",
      "Processing :: : 501it [00:00, 14753.12it/s]          \n",
      "Processing :: : 501it [00:00, 16151.90it/s]          \n",
      "Processing :: : 501it [00:00, 13865.79it/s]          \n",
      "Processing :: : 501it [00:00, 13773.99it/s]          \n",
      "Processing :: : 501it [00:00, 14708.41it/s]          \n",
      "Processing :: : 501it [00:00, 8417.51it/s]           \n",
      "Processing :: : 501it [00:00, 12798.26it/s]          \n",
      "Processing :: : 501it [00:00, 17094.40it/s]          \n",
      "Processing :: : 501it [00:00, 17092.59it/s]          \n",
      "Processing :: : 501it [00:00, 14455.16it/s]          \n",
      "Processing :: : 501it [00:00, 13119.97it/s]          \n",
      "Processing :: : 501it [00:00, 17271.58it/s]          \n",
      "Processing :: : 501it [00:00, 17630.96it/s]          \n",
      "Processing :: : 501it [00:00, 17321.12it/s]          \n",
      "Processing :: : 501it [00:00, 16279.03it/s]          \n",
      "Processing :: : 501it [00:00, 16561.42it/s]          \n",
      "Processing :: : 501it [00:00, 16448.38it/s]          \n",
      "Processing :: : 501it [00:00, 17544.41it/s]          \n",
      "Processing :: : 501it [00:00, 16950.85it/s]          \n",
      "Processing :: : 501it [00:00, 17801.38it/s]          \n",
      "Processing :: : 501it [00:00, 18022.30it/s]          \n",
      "Processing :: : 501it [00:00, 11444.37it/s]          \n",
      "Processing :: : 501it [00:00, 15772.08it/s]          \n",
      "Processing :: : 501it [00:00, 13832.84it/s]          \n",
      "Processing :: : 501it [00:00, 16996.92it/s]          \n",
      "Processing :: : 501it [00:00, 17125.33it/s]          \n",
      "Processing :: : 501it [00:00, 15785.95it/s]          \n",
      "Processing :: : 501it [00:00, 15493.57it/s]          \n",
      "Processing :: : 501it [00:00, 16565.99it/s]          \n",
      "Processing :: : 501it [00:00, 15836.27it/s]          \n",
      "Processing :: : 501it [00:00, 14198.67it/s]          \n",
      "Processing :: : 501it [00:00, 14048.12it/s]          \n",
      "Processing :: : 501it [00:00, 15710.30it/s]          \n",
      "Processing :: : 501it [00:00, 17381.29it/s]          \n",
      "Processing :: : 501it [00:00, 15743.25it/s]          \n",
      "Processing :: : 501it [00:00, 18001.61it/s]          \n",
      "Processing :: : 501it [00:00, 17522.32it/s]          \n",
      "Processing :: : 501it [00:00, 17266.89it/s]          \n",
      "Processing :: : 501it [00:00, 17140.55it/s]          \n",
      "Processing :: : 501it [00:00, 17148.81it/s]          \n",
      "Processing :: : 501it [00:00, 17755.21it/s]          \n",
      "Processing :: : 501it [00:00, 15172.61it/s]          \n",
      "Processing :: : 501it [00:00, 15739.01it/s]          \n",
      "Processing :: : 501it [00:00, 17502.18it/s]          \n",
      "Processing :: : 501it [00:00, 16880.72it/s]          \n",
      "Processing :: : 501it [00:00, 16506.26it/s]          \n",
      "Processing :: : 501it [00:00, 12788.76it/s]          \n",
      "Processing :: : 501it [00:00, 4644.78it/s]                       \n",
      "Processing :: : 501it [00:00, 16704.53it/s]          \n",
      "Processing :: : 501it [00:00, 17284.79it/s]          \n",
      "Processing :: : 501it [00:00, 16998.71it/s]          \n",
      "Processing :: : 501it [00:00, 17562.30it/s]          \n",
      "Processing :: : 501it [00:00, 16618.00it/s]          \n"
     ]
    }
   ],
   "source": [
    "for config in design:\n",
    "    if config[0] == \"lx\":\n",
    "        for i in range(2):\n",
    "            generate(config,i+1,\"./mot0507/\",sep = 7)\n",
    "    else:\n",
    "        for i in range(3):\n",
    "            generate(config,i+1,\"./mot0507/\",sep = 7)"
   ]
  },
  {
   "cell_type": "code",
   "execution_count": 79,
   "metadata": {},
   "outputs": [
    {
     "data": {
      "text/plain": [
       "(['fm', 12, 4, 10, 20, '2-4-6-8', [1, 3, 5, 7]],\n",
       " ['fm', 12, 4, 10, 15, '2-4-6-8', [1, 3, 5, 7]])"
      ]
     },
     "execution_count": 79,
     "metadata": {},
     "output_type": "execute_result"
    }
   ],
   "source": [
    "design[-6],design[-7]"
   ]
  },
  {
   "cell_type": "code",
   "execution_count": 81,
   "metadata": {},
   "outputs": [
    {
     "name": "stderr",
     "output_type": "stream",
     "text": [
      "Processing :: : 501it [00:00, 13263.14it/s]          \n"
     ]
    }
   ],
   "source": [
    "generate(design[-7],1,\"./mot0507-last/\",sep = 7)"
   ]
  },
  {
   "cell_type": "code",
   "execution_count": 51,
   "metadata": {},
   "outputs": [
    {
     "data": {
      "text/plain": [
       "array([[  77,  126],\n",
       "       [  73, -138],\n",
       "       [  66, -148]])"
      ]
     },
     "execution_count": 51,
     "metadata": {},
     "output_type": "execute_result"
    }
   ],
   "source": [
    "# pNum = 3\n",
    "# xvRate = 10\n",
    "# yvRate = 20\n",
    "# tgt = 2\n",
    "# itemId = \"lx1206102007-12\"\n",
    "# x,y = startPoints(pNum,a=10,b=14)\n",
    "# initLocation = np.array([START_BORDER[0]*x, START_BORDER[1]*y]).T\n",
    "\n",
    "# initSpeed = getInitSpeed(pNum,MIN_SPEED,MAX_SPEED,True)\n",
    "# initSpeed = np.abs(initSpeed)\n",
    "# initSpeed[:,0] = initSpeed[:,0]*xvRate/10\n",
    "# initSpeed[:,1] = initSpeed[:,1]*yvRate/10\n",
    "\n",
    "# # 四种对半分的y速度值,现在的是[正n/2，负n/2]\n",
    "# yMovement = [1 for _ in range(int(initSpeed.shape[0]/2))] + [-1 for _ in range(int(initSpeed.shape[0]/2))]\n",
    "# # yMovement = [-1 for _ in range(int(initSpeed.shape[0]/2))] + [1 for _ in range(int(initSpeed.shape[0]/2))]\n",
    "# # yMovement = [1 if float(i//2)==i/2 else -1 for i in range(initSpeed.shape[0])]\n",
    "# # yMovement = [-1 if float(i//2)==i/2 else 1 for i in range(initSpeed.shape[0])]\n",
    "\n",
    "# yMovement = yMovement+[-1 for _ in range(initSpeed.shape[0]-len(yMovement))] if initSpeed.shape[0]-len(yMovement) != 0 else yMovement \n",
    "\n",
    "# initSpeed[:,1] = initSpeed[:,1]*yMovement\n",
    "# initSpeed "
   ]
  },
  {
   "cell_type": "code",
   "execution_count": 34,
   "metadata": {},
   "outputs": [
    {
     "name": "stderr",
     "output_type": "stream",
     "text": [
      "Processing :: : 501it [00:00, 12367.04it/s]          \n"
     ]
    }
   ],
   "source": [
    "# loc = justMoveIt(pNum=pNum,r=RADIUS,initLocation=initLocation,initSpeed=initSpeed,miu=MIU,m=M,gravity=g,calcT=CALCTIME,maxIter=500)\n",
    "# l = []\n",
    "# for i in range(pNum):\n",
    "#     l.append(np.array(loc)[:,i,:].tolist())\n",
    "# l = np.round(np.array(l),3).tolist()\n",
    "# sample['ctrl'] = l\n",
    "# sample['itemID'] = itemId\n",
    "# sample['hardLevel'] = itemId[:-3]\n",
    "# sample['planeTargetNum'] = tgt\n",
    "# with open(\"./mot0507/\"+itemId+\".json\",\"a\") as f:\n",
    "#     f.write(json.dumps(sample))"
   ]
  },
  {
   "cell_type": "code",
   "execution_count": 88,
   "metadata": {},
   "outputs": [
    {
     "data": {
      "text/plain": [
       "['lx0201101007-1.json',\n",
       " 'lx0201101007-2.json',\n",
       " 'lx0302101007-1.json',\n",
       " 'lx0302101007-2.json',\n",
       " 'fm0402101007-1.json',\n",
       " 'fm0402101007-2.json',\n",
       " 'fm0603101007-1.json',\n",
       " 'fm0603101007-2.json',\n",
       " 'fm0603101007-3.json',\n",
       " 'fm0804101007-1.json',\n",
       " 'fm0804101007-2.json',\n",
       " 'fm0804101007-3.json',\n",
       " 'fm1004101007-1.json',\n",
       " 'fm1004101007-2.json',\n",
       " 'fm1004101007-3.json',\n",
       " 'fm1204101007-1.json',\n",
       " 'fm1204101007-2.json',\n",
       " 'fm1204101007-3.json',\n",
       " 'fm1206101007-1.json',\n",
       " 'fm1206101007-2.json',\n",
       " 'fm1206101007-3.json',\n",
       " 'fm0402101507-1.json',\n",
       " 'fm0402101507-2.json',\n",
       " 'fm0603101507-1.json',\n",
       " 'fm0603101507-2.json',\n",
       " 'fm0603101507-3.json',\n",
       " 'fm0804101507-1.json',\n",
       " 'fm0804101507-2.json',\n",
       " 'fm0804101507-3.json',\n",
       " 'fm1004101507-1.json',\n",
       " 'fm1004101507-2.json',\n",
       " 'fm1004101507-3.json',\n",
       " 'fm1204101507-1.json',\n",
       " 'fm1204101507-2.json',\n",
       " 'fm1204101507-3.json',\n",
       " 'fm1206101507-1.json',\n",
       " 'fm1206101507-2.json',\n",
       " 'fm1206101507-3.json',\n",
       " 'fm0402102007-1.json',\n",
       " 'fm0402102007-2.json',\n",
       " 'fm0603102007-1.json',\n",
       " 'fm0603102007-2.json',\n",
       " 'fm0603102007-3.json',\n",
       " 'fm0804102007-1.json',\n",
       " 'fm0804102007-2.json',\n",
       " 'fm0804102007-3.json',\n",
       " 'fm1004102007-1.json',\n",
       " 'fm1004102007-2.json',\n",
       " 'fm1004102007-3.json',\n",
       " 'fm1204102007-1.json',\n",
       " 'fm1204102007-2.json',\n",
       " 'fm1204102007-3.json',\n",
       " 'fm1206102007-1.json',\n",
       " 'fm1206102007-2.json',\n",
       " 'fm1206102007-3.json',\n",
       " 'fm0402201007-1.json',\n",
       " 'fm0402201007-2.json',\n",
       " 'fm0603201007-1.json',\n",
       " 'fm0603201007-2.json',\n",
       " 'fm0603201007-3.json',\n",
       " 'fm0804201007-1.json',\n",
       " 'fm0804201007-2.json',\n",
       " 'fm0804201007-3.json',\n",
       " 'fm1004201007-1.json',\n",
       " 'fm1004201007-2.json',\n",
       " 'fm1004201007-3.json',\n",
       " 'fm1204201007-1.json',\n",
       " 'fm1204201007-2.json',\n",
       " 'fm1204201007-3.json',\n",
       " 'fm1206201007-1.json',\n",
       " 'fm1206201007-2.json',\n",
       " 'fm1206201007-3.json']"
      ]
     },
     "execution_count": 88,
     "metadata": {},
     "output_type": "execute_result"
    }
   ],
   "source": [
    "fList = os.listdir(\"./mot0507-last\")\n",
    "fList = [i for i in fList if \"._\" not in i]\n",
    "fList = [i for i in fList if \".DS\" not in i]\n",
    "fList = [i for i in fList if \"design\" not in i]\n",
    "fList.sort()\n",
    "fList = fList[-4:] + [i for i in fList[:-4] if \"1010\" in i]+ [i for i in fList[:-4] if \"1015\" in i]+ [i for i in fList[:-4] if \"1020\" in i]+ [i for i in fList[:-4] if \"2010\" in i]\n",
    "fList"
   ]
  },
  {
   "cell_type": "code",
   "execution_count": 89,
   "metadata": {},
   "outputs": [],
   "source": [
    "l = []\n",
    "for f in fList:\n",
    "    try:\n",
    "        with open(\"./mot0507-last/\"+f ,\"r\") as f:\n",
    "            l.append(json.loads(f.read()))\n",
    "    except Exception as e:\n",
    "        print(f)\n",
    "with open(\"./mot0507-last/comb.json\" ,\"w+\") as f:\n",
    "        f.write(json.dumps(l))"
   ]
  },
  {
   "cell_type": "code",
   "execution_count": 7,
   "metadata": {},
   "outputs": [],
   "source": [
    "with open(\"./mot0506/comb.json\" ,\"r\") as f:\n",
    "    a = json.loads(f.read())\n",
    "with open(\"./motConfig0506.json\" ,\"a\") as f:\n",
    "    f.write(json.dumps(a))"
   ]
  },
  {
   "cell_type": "code",
   "execution_count": null,
   "metadata": {},
   "outputs": [
    {
     "name": "stdout",
     "output_type": "stream",
     "text": [
      "0\n",
      "1\n",
      "2\n",
      "3\n",
      "4\n",
      "5\n",
      "6\n",
      "7\n",
      "8\n",
      "9\n",
      "10\n",
      "11\n",
      "12\n",
      "13\n",
      "14\n",
      "15\n",
      "16\n",
      "17\n",
      "18\n"
     ]
    },
    {
     "ename": "KeyboardInterrupt",
     "evalue": "",
     "output_type": "error",
     "traceback": [
      "\u001b[0;31m---------------------------------------------------------------------------\u001b[0m",
      "\u001b[0;31mKeyboardInterrupt\u001b[0m                         Traceback (most recent call last)",
      "\u001b[0;32m/var/folders/93/y5d5gg993p57gtf35bsbyt5w0000gn/T/ipykernel_33916/4138454579.py\u001b[0m in \u001b[0;36m<module>\u001b[0;34m\u001b[0m\n\u001b[1;32m     14\u001b[0m     \u001b[0mimg\u001b[0m \u001b[0;34m=\u001b[0m \u001b[0mpointDraw\u001b[0m\u001b[0;34m(\u001b[0m\u001b[0mcurrentLocation\u001b[0m\u001b[0;34m,\u001b[0m\u001b[0mRADIUS\u001b[0m\u001b[0;34m)\u001b[0m\u001b[0;34m\u001b[0m\u001b[0;34m\u001b[0m\u001b[0m\n\u001b[1;32m     15\u001b[0m     \u001b[0msavePath\u001b[0m \u001b[0;34m=\u001b[0m \u001b[0mpath\u001b[0m\u001b[0;34m+\u001b[0m\u001b[0;34m'frame'\u001b[0m\u001b[0;34m+\u001b[0m\u001b[0mstr\u001b[0m\u001b[0;34m(\u001b[0m\u001b[0mct\u001b[0m\u001b[0;34m)\u001b[0m \u001b[0;34m+\u001b[0m\u001b[0;34m\".png\"\u001b[0m\u001b[0;34m\u001b[0m\u001b[0;34m\u001b[0m\u001b[0m\n\u001b[0;32m---> 16\u001b[0;31m     \u001b[0mimg\u001b[0m\u001b[0;34m.\u001b[0m\u001b[0msavePng\u001b[0m\u001b[0;34m(\u001b[0m\u001b[0msavePath\u001b[0m\u001b[0;34m)\u001b[0m\u001b[0;34m\u001b[0m\u001b[0;34m\u001b[0m\u001b[0m\n\u001b[0m\u001b[1;32m     17\u001b[0m     \u001b[0mct\u001b[0m\u001b[0;34m+=\u001b[0m\u001b[0;36m1\u001b[0m\u001b[0;34m\u001b[0m\u001b[0;34m\u001b[0m\u001b[0m\n",
      "\u001b[0;32m/Library/Frameworks/Python.framework/Versions/3.9/lib/python3.9/site-packages/drawSvg/drawing.py\u001b[0m in \u001b[0;36msavePng\u001b[0;34m(self, fname)\u001b[0m\n\u001b[1;32m    175\u001b[0m             \u001b[0mself\u001b[0m\u001b[0;34m.\u001b[0m\u001b[0masSvg\u001b[0m\u001b[0;34m(\u001b[0m\u001b[0moutputFile\u001b[0m\u001b[0;34m=\u001b[0m\u001b[0mf\u001b[0m\u001b[0;34m)\u001b[0m\u001b[0;34m\u001b[0m\u001b[0;34m\u001b[0m\u001b[0m\n\u001b[1;32m    176\u001b[0m     \u001b[0;32mdef\u001b[0m \u001b[0msavePng\u001b[0m\u001b[0;34m(\u001b[0m\u001b[0mself\u001b[0m\u001b[0;34m,\u001b[0m \u001b[0mfname\u001b[0m\u001b[0;34m)\u001b[0m\u001b[0;34m:\u001b[0m\u001b[0;34m\u001b[0m\u001b[0;34m\u001b[0m\u001b[0m\n\u001b[0;32m--> 177\u001b[0;31m         \u001b[0mself\u001b[0m\u001b[0;34m.\u001b[0m\u001b[0mrasterize\u001b[0m\u001b[0;34m(\u001b[0m\u001b[0mtoFile\u001b[0m\u001b[0;34m=\u001b[0m\u001b[0mfname\u001b[0m\u001b[0;34m)\u001b[0m\u001b[0;34m\u001b[0m\u001b[0;34m\u001b[0m\u001b[0m\n\u001b[0m\u001b[1;32m    178\u001b[0m     \u001b[0;32mdef\u001b[0m \u001b[0mrasterize\u001b[0m\u001b[0;34m(\u001b[0m\u001b[0mself\u001b[0m\u001b[0;34m,\u001b[0m \u001b[0mtoFile\u001b[0m\u001b[0;34m=\u001b[0m\u001b[0;32mNone\u001b[0m\u001b[0;34m)\u001b[0m\u001b[0;34m:\u001b[0m\u001b[0;34m\u001b[0m\u001b[0;34m\u001b[0m\u001b[0m\n\u001b[1;32m    179\u001b[0m         \u001b[0;32mif\u001b[0m \u001b[0mtoFile\u001b[0m\u001b[0;34m:\u001b[0m\u001b[0;34m\u001b[0m\u001b[0;34m\u001b[0m\u001b[0m\n",
      "\u001b[0;32m/Library/Frameworks/Python.framework/Versions/3.9/lib/python3.9/site-packages/drawSvg/drawing.py\u001b[0m in \u001b[0;36mrasterize\u001b[0;34m(self, toFile)\u001b[0m\n\u001b[1;32m    178\u001b[0m     \u001b[0;32mdef\u001b[0m \u001b[0mrasterize\u001b[0m\u001b[0;34m(\u001b[0m\u001b[0mself\u001b[0m\u001b[0;34m,\u001b[0m \u001b[0mtoFile\u001b[0m\u001b[0;34m=\u001b[0m\u001b[0;32mNone\u001b[0m\u001b[0;34m)\u001b[0m\u001b[0;34m:\u001b[0m\u001b[0;34m\u001b[0m\u001b[0;34m\u001b[0m\u001b[0m\n\u001b[1;32m    179\u001b[0m         \u001b[0;32mif\u001b[0m \u001b[0mtoFile\u001b[0m\u001b[0;34m:\u001b[0m\u001b[0;34m\u001b[0m\u001b[0;34m\u001b[0m\u001b[0m\n\u001b[0;32m--> 180\u001b[0;31m             \u001b[0;32mreturn\u001b[0m \u001b[0mRaster\u001b[0m\u001b[0;34m.\u001b[0m\u001b[0mfromSvgToFile\u001b[0m\u001b[0;34m(\u001b[0m\u001b[0mself\u001b[0m\u001b[0;34m.\u001b[0m\u001b[0masSvg\u001b[0m\u001b[0;34m(\u001b[0m\u001b[0;34m)\u001b[0m\u001b[0;34m,\u001b[0m \u001b[0mtoFile\u001b[0m\u001b[0;34m)\u001b[0m\u001b[0;34m\u001b[0m\u001b[0;34m\u001b[0m\u001b[0m\n\u001b[0m\u001b[1;32m    181\u001b[0m         \u001b[0;32melse\u001b[0m\u001b[0;34m:\u001b[0m\u001b[0;34m\u001b[0m\u001b[0;34m\u001b[0m\u001b[0m\n\u001b[1;32m    182\u001b[0m             \u001b[0;32mreturn\u001b[0m \u001b[0mRaster\u001b[0m\u001b[0;34m.\u001b[0m\u001b[0mfromSvg\u001b[0m\u001b[0;34m(\u001b[0m\u001b[0mself\u001b[0m\u001b[0;34m.\u001b[0m\u001b[0masSvg\u001b[0m\u001b[0;34m(\u001b[0m\u001b[0;34m)\u001b[0m\u001b[0;34m)\u001b[0m\u001b[0;34m\u001b[0m\u001b[0;34m\u001b[0m\u001b[0m\n",
      "\u001b[0;32m/Library/Frameworks/Python.framework/Versions/3.9/lib/python3.9/site-packages/drawSvg/raster.py\u001b[0m in \u001b[0;36mfromSvgToFile\u001b[0;34m(svgData, outFile)\u001b[0m\n\u001b[1;32m     39\u001b[0m     \u001b[0;34m@\u001b[0m\u001b[0mstaticmethod\u001b[0m\u001b[0;34m\u001b[0m\u001b[0;34m\u001b[0m\u001b[0m\n\u001b[1;32m     40\u001b[0m     \u001b[0;32mdef\u001b[0m \u001b[0mfromSvgToFile\u001b[0m\u001b[0;34m(\u001b[0m\u001b[0msvgData\u001b[0m\u001b[0;34m,\u001b[0m \u001b[0moutFile\u001b[0m\u001b[0;34m)\u001b[0m\u001b[0;34m:\u001b[0m\u001b[0;34m\u001b[0m\u001b[0;34m\u001b[0m\u001b[0m\n\u001b[0;32m---> 41\u001b[0;31m         \u001b[0mcairosvg\u001b[0m\u001b[0;34m.\u001b[0m\u001b[0msvg2png\u001b[0m\u001b[0;34m(\u001b[0m\u001b[0mbytestring\u001b[0m\u001b[0;34m=\u001b[0m\u001b[0msvgData\u001b[0m\u001b[0;34m,\u001b[0m \u001b[0mwrite_to\u001b[0m\u001b[0;34m=\u001b[0m\u001b[0moutFile\u001b[0m\u001b[0;34m)\u001b[0m\u001b[0;34m\u001b[0m\u001b[0;34m\u001b[0m\u001b[0m\n\u001b[0m\u001b[1;32m     42\u001b[0m         \u001b[0;32mreturn\u001b[0m \u001b[0mRaster\u001b[0m\u001b[0;34m(\u001b[0m\u001b[0;32mNone\u001b[0m\u001b[0;34m,\u001b[0m \u001b[0mpngFile\u001b[0m\u001b[0;34m=\u001b[0m\u001b[0moutFile\u001b[0m\u001b[0;34m)\u001b[0m\u001b[0;34m\u001b[0m\u001b[0;34m\u001b[0m\u001b[0m\n\u001b[1;32m     43\u001b[0m     \u001b[0;32mdef\u001b[0m \u001b[0m_repr_png_\u001b[0m\u001b[0;34m(\u001b[0m\u001b[0mself\u001b[0m\u001b[0;34m)\u001b[0m\u001b[0;34m:\u001b[0m\u001b[0;34m\u001b[0m\u001b[0;34m\u001b[0m\u001b[0m\n",
      "\u001b[0;32m/Library/Frameworks/Python.framework/Versions/3.9/lib/python3.9/site-packages/cairosvg/__init__.py\u001b[0m in \u001b[0;36msvg2png\u001b[0;34m(bytestring, file_obj, url, dpi, parent_width, parent_height, scale, unsafe, background_color, negate_colors, invert_images, write_to, output_width, output_height)\u001b[0m\n\u001b[1;32m     53\u001b[0m             \u001b[0mbackground_color\u001b[0m\u001b[0;34m=\u001b[0m\u001b[0;32mNone\u001b[0m\u001b[0;34m,\u001b[0m \u001b[0mnegate_colors\u001b[0m\u001b[0;34m=\u001b[0m\u001b[0;32mFalse\u001b[0m\u001b[0;34m,\u001b[0m \u001b[0minvert_images\u001b[0m\u001b[0;34m=\u001b[0m\u001b[0;32mFalse\u001b[0m\u001b[0;34m,\u001b[0m\u001b[0;34m\u001b[0m\u001b[0;34m\u001b[0m\u001b[0m\n\u001b[1;32m     54\u001b[0m             write_to=None, output_width=None, output_height=None):\n\u001b[0;32m---> 55\u001b[0;31m     return surface.PNGSurface.convert(\n\u001b[0m\u001b[1;32m     56\u001b[0m         \u001b[0mbytestring\u001b[0m\u001b[0;34m=\u001b[0m\u001b[0mbytestring\u001b[0m\u001b[0;34m,\u001b[0m \u001b[0mfile_obj\u001b[0m\u001b[0;34m=\u001b[0m\u001b[0mfile_obj\u001b[0m\u001b[0;34m,\u001b[0m \u001b[0murl\u001b[0m\u001b[0;34m=\u001b[0m\u001b[0murl\u001b[0m\u001b[0;34m,\u001b[0m \u001b[0mdpi\u001b[0m\u001b[0;34m=\u001b[0m\u001b[0mdpi\u001b[0m\u001b[0;34m,\u001b[0m\u001b[0;34m\u001b[0m\u001b[0;34m\u001b[0m\u001b[0m\n\u001b[1;32m     57\u001b[0m         \u001b[0mparent_width\u001b[0m\u001b[0;34m=\u001b[0m\u001b[0mparent_width\u001b[0m\u001b[0;34m,\u001b[0m \u001b[0mparent_height\u001b[0m\u001b[0;34m=\u001b[0m\u001b[0mparent_height\u001b[0m\u001b[0;34m,\u001b[0m \u001b[0mscale\u001b[0m\u001b[0;34m=\u001b[0m\u001b[0mscale\u001b[0m\u001b[0;34m,\u001b[0m\u001b[0;34m\u001b[0m\u001b[0;34m\u001b[0m\u001b[0m\n",
      "\u001b[0;32m/Library/Frameworks/Python.framework/Versions/3.9/lib/python3.9/site-packages/cairosvg/surface.py\u001b[0m in \u001b[0;36mconvert\u001b[0;34m(cls, bytestring, file_obj, url, dpi, parent_width, parent_height, scale, unsafe, background_color, negate_colors, invert_images, write_to, output_width, output_height, **kwargs)\u001b[0m\n\u001b[1;32m    134\u001b[0m             \u001b[0mmap_rgba\u001b[0m\u001b[0;34m=\u001b[0m\u001b[0mnegate_color\u001b[0m \u001b[0;32mif\u001b[0m \u001b[0mnegate_colors\u001b[0m \u001b[0;32melse\u001b[0m \u001b[0;32mNone\u001b[0m\u001b[0;34m,\u001b[0m\u001b[0;34m\u001b[0m\u001b[0;34m\u001b[0m\u001b[0m\n\u001b[1;32m    135\u001b[0m             map_image=invert_image if invert_images else None)\n\u001b[0;32m--> 136\u001b[0;31m         \u001b[0minstance\u001b[0m\u001b[0;34m.\u001b[0m\u001b[0mfinish\u001b[0m\u001b[0;34m(\u001b[0m\u001b[0;34m)\u001b[0m\u001b[0;34m\u001b[0m\u001b[0;34m\u001b[0m\u001b[0m\n\u001b[0m\u001b[1;32m    137\u001b[0m         \u001b[0;32mif\u001b[0m \u001b[0mwrite_to\u001b[0m \u001b[0;32mis\u001b[0m \u001b[0;32mNone\u001b[0m\u001b[0;34m:\u001b[0m\u001b[0;34m\u001b[0m\u001b[0;34m\u001b[0m\u001b[0m\n\u001b[1;32m    138\u001b[0m             \u001b[0;32mreturn\u001b[0m \u001b[0moutput\u001b[0m\u001b[0;34m.\u001b[0m\u001b[0mgetvalue\u001b[0m\u001b[0;34m(\u001b[0m\u001b[0;34m)\u001b[0m\u001b[0;34m\u001b[0m\u001b[0;34m\u001b[0m\u001b[0m\n",
      "\u001b[0;32m/Library/Frameworks/Python.framework/Versions/3.9/lib/python3.9/site-packages/cairosvg/surface.py\u001b[0m in \u001b[0;36mfinish\u001b[0;34m(self)\u001b[0m\n\u001b[1;32m    527\u001b[0m         \u001b[0;34m\"\"\"Read the PNG surface content.\"\"\"\u001b[0m\u001b[0;34m\u001b[0m\u001b[0;34m\u001b[0m\u001b[0m\n\u001b[1;32m    528\u001b[0m         \u001b[0;32mif\u001b[0m \u001b[0mself\u001b[0m\u001b[0;34m.\u001b[0m\u001b[0moutput\u001b[0m \u001b[0;32mis\u001b[0m \u001b[0;32mnot\u001b[0m \u001b[0;32mNone\u001b[0m\u001b[0;34m:\u001b[0m\u001b[0;34m\u001b[0m\u001b[0;34m\u001b[0m\u001b[0m\n\u001b[0;32m--> 529\u001b[0;31m             \u001b[0mself\u001b[0m\u001b[0;34m.\u001b[0m\u001b[0mcairo\u001b[0m\u001b[0;34m.\u001b[0m\u001b[0mwrite_to_png\u001b[0m\u001b[0;34m(\u001b[0m\u001b[0mself\u001b[0m\u001b[0;34m.\u001b[0m\u001b[0moutput\u001b[0m\u001b[0;34m)\u001b[0m\u001b[0;34m\u001b[0m\u001b[0;34m\u001b[0m\u001b[0m\n\u001b[0m\u001b[1;32m    530\u001b[0m         \u001b[0;32mreturn\u001b[0m \u001b[0msuper\u001b[0m\u001b[0;34m(\u001b[0m\u001b[0;34m)\u001b[0m\u001b[0;34m.\u001b[0m\u001b[0mfinish\u001b[0m\u001b[0;34m(\u001b[0m\u001b[0;34m)\u001b[0m\u001b[0;34m\u001b[0m\u001b[0;34m\u001b[0m\u001b[0m\n\u001b[1;32m    531\u001b[0m \u001b[0;34m\u001b[0m\u001b[0m\n",
      "\u001b[0;32m/Library/Frameworks/Python.framework/Versions/3.9/lib/python3.9/site-packages/cairocffi/surfaces.py\u001b[0m in \u001b[0;36mwrite_to_png\u001b[0;34m(self, target)\u001b[0m\n\u001b[1;32m    676\u001b[0m                     \u001b[0mpng_file\u001b[0m\u001b[0;34m.\u001b[0m\u001b[0munlink\u001b[0m\u001b[0;34m(\u001b[0m\u001b[0;34m)\u001b[0m\u001b[0;34m\u001b[0m\u001b[0;34m\u001b[0m\u001b[0m\n\u001b[1;32m    677\u001b[0m         \u001b[0;32melse\u001b[0m\u001b[0;34m:\u001b[0m\u001b[0;34m\u001b[0m\u001b[0;34m\u001b[0m\u001b[0m\n\u001b[0;32m--> 678\u001b[0;31m             _check_status(cairo.cairo_surface_write_to_png(\n\u001b[0m\u001b[1;32m    679\u001b[0m                 self._pointer, _encode_filename(target)))\n\u001b[1;32m    680\u001b[0m         \u001b[0;32mif\u001b[0m \u001b[0mreturn_bytes\u001b[0m\u001b[0;34m:\u001b[0m\u001b[0;34m\u001b[0m\u001b[0;34m\u001b[0m\u001b[0m\n",
      "\u001b[0;31mKeyboardInterrupt\u001b[0m: "
     ]
    }
   ],
   "source": [
    "# currentLocation = initLocation.copy()\n",
    "# currentSpeed = initSpeed.copy()\n",
    "# path = './motImg0312/'\n",
    "# ct = 0\n",
    "# for i in range(int(round(t/CALCTIME,0))):\n",
    "#     print(ct)\n",
    "#     dis = calDis(currentLocation)\n",
    "#     clps = checkClps(dis,RADIUS)\n",
    "#     border = checkBorder(currentLocation,RADIUS)\n",
    "#     currentSpeed = switchPair(currentSpeed,clps)\n",
    "#     currentSpeed = switchBorder(currentSpeed,border)\n",
    "#     currentLocation = updateLocation(currentSpeed= currentSpeed,currentLocation= currentLocation,acc= -MIU*g,t= CALCTIME)\n",
    "#     currentSpeed = updateSpeed(currentSpeed=currentSpeed,acc=-MIU*g,t=CALCTIME)\n",
    "#     img = pointDraw(currentLocation,RADIUS)\n",
    "#     savePath = path+'frame'+str(ct) +\".png\"\n",
    "#     img.savePng(savePath)\n",
    "#     ct+=1"
   ]
  },
  {
   "cell_type": "code",
   "execution_count": 29,
   "metadata": {},
   "outputs": [],
   "source": [
    "import json\n",
    "s = {'clp':loc}\n",
    "d = json.dumps(s)\n",
    "with open('temot0312-弹性碰撞.json','a') as f:\n",
    "    f.write(d)"
   ]
  },
  {
   "cell_type": "code",
   "execution_count": null,
   "metadata": {},
   "outputs": [],
   "source": []
  }
 ],
 "metadata": {
  "interpreter": {
   "hash": "aee8b7b246df8f9039afb4144a1f6fd8d2ca17a180786b69acc140d282b71a49"
  },
  "kernelspec": {
   "display_name": "Python 3.9.7 64-bit",
   "language": "python",
   "name": "python3"
  },
  "language_info": {
   "codemirror_mode": {
    "name": "ipython",
    "version": 3
   },
   "file_extension": ".py",
   "mimetype": "text/x-python",
   "name": "python",
   "nbconvert_exporter": "python",
   "pygments_lexer": "ipython3",
   "version": "3.9.7"
  },
  "orig_nbformat": 4
 },
 "nbformat": 4,
 "nbformat_minor": 2
}
